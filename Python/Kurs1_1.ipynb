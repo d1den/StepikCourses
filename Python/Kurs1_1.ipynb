{
 "cells": [
  {
   "cell_type": "code",
   "execution_count": 7,
   "metadata": {},
   "outputs": [
    {
     "name": "stdout",
     "output_type": "stream",
     "text": [
      "C\n",
      "C1\n"
     ]
    }
   ],
   "source": [
    "s = input()\n",
    "count = 1\n",
    "answer = ''\n",
    "if len(s) == 1:\n",
    "    answer = s + str(1)\n",
    "else:\n",
    "    for i in range(0, len(s) - 1):\n",
    "        if s[i] == s[i + 1]:\n",
    "            count += 1\n",
    "        else:\n",
    "            answer += s[i] + str(count)\n",
    "            count = 1\n",
    "        if i == len(s) - 2:\n",
    "            if s[i] == s[i + 1]:\n",
    "                answer += s[i] + str(count)\n",
    "            else:\n",
    "                answer += s[i+1] + str(count)\n",
    "print(answer)"
   ]
  },
  {
   "cell_type": "code",
   "execution_count": 2,
   "metadata": {},
   "outputs": [],
   "source": [
    "### В данном ноутбуке написаны ралзичные задания с базового курса по питону на Stepik\n",
    "## \"Програмирование на Python\""
   ]
  },
  {
   "cell_type": "code",
   "execution_count": 10,
   "metadata": {},
   "outputs": [
    {
     "name": "stdout",
     "output_type": "stream",
     "text": [
      "[1, 2, 3]; [1, 10, 3]; [20, 10, 3]; [20, 10, 3]; "
     ]
    }
   ],
   "source": [
    "a = [1, 2, 3]\n",
    "b = a\n",
    "print(b, end = '; ')\n",
    "\n",
    "a[1] = 10\n",
    "print(b, end = '; ')\n",
    "\n",
    "b[0] = 20\n",
    "print(a, end = '; ')\n",
    "\n",
    "a = [5, 6]\n",
    "print(b, end = '; ')"
   ]
  },
  {
   "cell_type": "code",
   "execution_count": 12,
   "metadata": {},
   "outputs": [
    {
     "name": "stdout",
     "output_type": "stream",
     "text": [
      "1 2 3 -6 4\n",
      "4\n"
     ]
    }
   ],
   "source": [
    "var = [int(i) for i in input().split()]\n",
    "sum = 0\n",
    "for x in var:\n",
    "    sum += x\n",
    "print(sum)"
   ]
  },
  {
   "cell_type": "code",
   "execution_count": 18,
   "metadata": {},
   "outputs": [
    {
     "name": "stdout",
     "output_type": "stream",
     "text": [
      "1 3 5 6 10\n",
      "13 6 9 15 7 "
     ]
    }
   ],
   "source": [
    "inpStr = [int(i) for i in input().split()]\n",
    "sumList = []\n",
    "if len(inpStr) == 1:\n",
    "    print(inpStr[0])\n",
    "else:\n",
    "    for i in range(0, len(inpStr)):\n",
    "        if i == 0:\n",
    "            sumList.append(inpStr[i + 1] + inpStr[len(inpStr) - 1])\n",
    "        elif i == len(inpStr) - 1:\n",
    "            sumList.append(inpStr[i - 1] + inpStr[0])\n",
    "        else:\n",
    "            sumList.append(inpStr[i - 1] + inpStr[i + 1])\n",
    "    for x in sumList:\n",
    "        print(x, end = ' ')"
   ]
  },
  {
   "cell_type": "code",
   "execution_count": 1,
   "metadata": {},
   "outputs": [
    {
     "name": "stdout",
     "output_type": "stream",
     "text": [
      "1 1 1 1 1 2 2 2\n",
      "1 2 "
     ]
    }
   ],
   "source": [
    "inpStr = [int(i) for i in input().split()]\n",
    "answer = []\n",
    "repeat = 1\n",
    "inpStr.sort()\n",
    "for i in range(0, len(inpStr) - 1):\n",
    "    if inpStr[i] == inpStr[i + 1]:\n",
    "        repeat += 1\n",
    "        if repeat == 2: \n",
    "            answer.append(inpStr[i])\n",
    "    else:\n",
    "        repeat = 1\n",
    "for x in answer:\n",
    "    print(x, end = ' ')"
   ]
  },
  {
   "cell_type": "code",
   "execution_count": 3,
   "metadata": {},
   "outputs": [
    {
     "name": "stdout",
     "output_type": "stream",
     "text": [
      "1\n",
      "2\n",
      "-3\n",
      "14\n"
     ]
    }
   ],
   "source": [
    "numb = []\n",
    "s = 0\n",
    "while 1:\n",
    "    x = int(input())\n",
    "    numb += [x]\n",
    "    s += x\n",
    "    if s == 0:\n",
    "        break\n",
    "s2 = 0\n",
    "for i in numb:\n",
    "    s2 += i * i\n",
    "print(s2)\n",
    "    "
   ]
  },
  {
   "cell_type": "code",
   "execution_count": 7,
   "metadata": {},
   "outputs": [
    {
     "name": "stdout",
     "output_type": "stream",
     "text": [
      "7\n",
      "1 2 2 3 3 3 4 "
     ]
    }
   ],
   "source": [
    "n = int(input())\n",
    "x = 1\n",
    "while n > 0:\n",
    "    if x <= n:\n",
    "        for i in range (0, x):\n",
    "            print(x, end = ' ')\n",
    "    else:\n",
    "        for i in range (0, n):\n",
    "            print(x, end = ' ')\n",
    "        break\n",
    "    n -= x\n",
    "    x += 1"
   ]
  },
  {
   "cell_type": "code",
   "execution_count": 11,
   "metadata": {},
   "outputs": [
    {
     "name": "stdout",
     "output_type": "stream",
     "text": [
      "5 8 2 7 8 8 2 4\n",
      "20\n",
      "Отсутствует\n"
     ]
    }
   ],
   "source": [
    "lst = [int(i) for i in input().split()]\n",
    "x = int(input())\n",
    "answer = []\n",
    "for i in range(0, len(lst)):\n",
    "    if lst[i] == x:\n",
    "        answer += [i]\n",
    "if len(answer) == 0:\n",
    "    print('Отсутствует')\n",
    "else:\n",
    "    for x in answer:\n",
    "        print(x, end = ' ')"
   ]
  },
  {
   "cell_type": "code",
   "execution_count": 41,
   "metadata": {},
   "outputs": [
    {
     "name": "stdout",
     "output_type": "stream",
     "text": [
      "9 5 3\n",
      "0 7 -1\n",
      "-5 2 9\n",
      "end\n",
      "3 21 22 \n",
      "10 6 19 \n",
      "20 16 -1 \n"
     ]
    }
   ],
   "source": [
    "mtrx = []\n",
    "s = input()\n",
    "while s != 'end':\n",
    "    mtrx += [[int(i) for i in s.split()]]\n",
    "    s = input()\n",
    "answer = []\n",
    "#print(len(mtrx))\n",
    "#print(len(mtrx[0]))\n",
    "if len(mtrx) == 1 and len(mtrx[0]) == 1:\n",
    "    answer +=[[]]\n",
    "    answer[0] += [4 * mtrx[0][0]]\n",
    "elif len(mtrx) == 1:\n",
    "    answer += [[]]\n",
    "    for j in range(len(mtrx[0])):\n",
    "        s = 2 * mtrx[0][j]\n",
    "        if j == 0:\n",
    "            s += mtrx[0][len(mtrx[0]) - 1] + mtrx[0][j + 1]\n",
    "        elif j == len(mtrx[0]) - 1:\n",
    "            s += mtrx[0][j - 1] + mtrx[0][0]\n",
    "        else:\n",
    "            s += mtrx[0][j - 1] + mtrx[0][j + 1]\n",
    "        answer[0] += [s]\n",
    "elif len(mtrx[0]) == 1:\n",
    "    for i in range(len(mtrx)):\n",
    "        answer += [[]]\n",
    "        s = 2 * mtrx[i][0]\n",
    "        if i == 0:\n",
    "            s += mtrx[len(mtrx) - 1][0] + mtrx[i + 1][0]\n",
    "        elif i == len(mtrx) - 1:\n",
    "            s += mtrx[i - 1][0] + mtrx[0][0]\n",
    "        else:\n",
    "            s += mtrx[i - 1][0] + mtrx[i + 1][0]\n",
    "        answer[i] += [s]\n",
    "else:        \n",
    "    for i in range(len(mtrx)):\n",
    "        answer += [[]]\n",
    "        for j in range(len(mtrx[i])):\n",
    "            s = 0\n",
    "            if i == 0:\n",
    "                s += mtrx[len(mtrx) - 1][j] + mtrx[i + 1][j]\n",
    "            elif i == len(mtrx) - 1:\n",
    "                s += mtrx[i - 1][j] + mtrx[0][j]\n",
    "            else:\n",
    "                s += mtrx[i - 1][j] + mtrx[i + 1][j]\n",
    "            if j == 0:\n",
    "                s += mtrx[i][len(mtrx[i]) - 1] + mtrx[i][j + 1]\n",
    "            elif j == len(mtrx[i]) - 1:\n",
    "                s += mtrx[i][j - 1] + mtrx[i][0]\n",
    "            else:\n",
    "                s += mtrx[i][j - 1] + mtrx[i][j + 1]\n",
    "            answer[i] += [s]\n",
    "for i in range(len(answer)):\n",
    "    for j in range(len(answer[i])):\n",
    "        print(answer[i][j], end = ' ')\n",
    "    print()            "
   ]
  },
  {
   "cell_type": "code",
   "execution_count": 56,
   "metadata": {},
   "outputs": [
    {
     "name": "stdout",
     "output_type": "stream",
     "text": [
      "4\n",
      "1 2 3 4 \n",
      "12 13 14 5 \n",
      "11 16 15 6 \n",
      "10 9 8 7 \n"
     ]
    }
   ],
   "source": [
    "n = int(input())\n",
    "a = [[0] * n for i in range(n)]\n",
    "i0, ik, j0, jk = 0, len(a), 0, len(a[0])\n",
    "x = 1\n",
    "isSecond = False\n",
    "isDone = False\n",
    "while 1:\n",
    "    if isDone:\n",
    "        break\n",
    "        \n",
    "    if isSecond:\n",
    "        j0 += 1\n",
    "        \n",
    "    for j in range(j0, jk):\n",
    "        a[i0][j] = x\n",
    "        x += 1\n",
    "        if x > n * n:\n",
    "            isDone = True\n",
    "            break\n",
    "            \n",
    "    if isDone:\n",
    "        break\n",
    "    \n",
    "        \n",
    "    for i in range(i0 + 1, ik):\n",
    "        a[i][jk - 1] = x\n",
    "        x += 1\n",
    "        if x > n * n:\n",
    "            isDone = True\n",
    "            break\n",
    "            \n",
    "    if isDone:\n",
    "        break\n",
    "        \n",
    "    for j in range(jk - 2, j0 - 1, -1):\n",
    "        a[ik - 1][j] = x\n",
    "        x += 1\n",
    "        if x > n * n:\n",
    "            isDone = True\n",
    "            break\n",
    "            \n",
    "    i0 += 1\n",
    "    \n",
    "    if isDone:\n",
    "        break\n",
    "    for i in range(ik - 2, i0 - 1, -1):\n",
    "        a[i][j0] = x\n",
    "        x += 1\n",
    "        if x > n * n:\n",
    "            isDone = True\n",
    "            break\n",
    "            \n",
    "    isSecond = True\n",
    "    ik -= 1\n",
    "    jk -= 1\n",
    "\n",
    "for i in range(len(a)):\n",
    "    for j in range(len(a[0])):\n",
    "        print(a[i][j], end = ' ')\n",
    "    print()"
   ]
  },
  {
   "cell_type": "code",
   "execution_count": 58,
   "metadata": {},
   "outputs": [
    {
     "name": "stdout",
     "output_type": "stream",
     "text": [
      "-0.5\n"
     ]
    }
   ],
   "source": [
    "def f(x):\n",
    "    f = 0\n",
    "    if x <= -2:\n",
    "        f = 1 - (x + 2) ** 2\n",
    "    elif x > -2 and x <= 2:\n",
    "        f = -x / 2\n",
    "    elif x > 2:\n",
    "        f = (x - 2) ** 2 + 1\n",
    "    return f"
   ]
  },
  {
   "cell_type": "code",
   "execution_count": 9,
   "metadata": {},
   "outputs": [
    {
     "name": "stdout",
     "output_type": "stream",
     "text": [
      "None\n",
      "[1, 2, 3]\n",
      "[1]\n",
      "[5, 4]\n"
     ]
    }
   ],
   "source": [
    "def modify_list(l):\n",
    "    helpArr = []\n",
    "    for x in l:\n",
    "        if x % 2 == 0:\n",
    "            helpArr += [x // 2]\n",
    "    l.clear()\n",
    "    for x in helpArr:\n",
    "        l.append(x)\n",
    "lst = [1, 2, 3, 4, 5, 6]\n",
    "print(modify_list(lst))  # None\n",
    "print(lst)               # [1, 2, 3]\n",
    "modify_list(lst)\n",
    "print(lst)               # [1]\n",
    "\n",
    "lst = [10, 5, 8, 3]\n",
    "modify_list(lst)\n",
    "print(lst)               # [5, 4]"
   ]
  },
  {
   "cell_type": "code",
   "execution_count": 25,
   "metadata": {},
   "outputs": [
    {
     "name": "stdout",
     "output_type": "stream",
     "text": [
      "None\n",
      "{2: [-1]}\n",
      "{2: [-1, -2]}\n",
      "{2: [-1, -2, -3]}\n"
     ]
    }
   ],
   "source": [
    "def update_dictionary(d, key, value):\n",
    "    helpD = d.copy()\n",
    "    if helpD.get(key) != None:\n",
    "        helpD[key] += [value]\n",
    "    elif helpD.get(2 * key) != None:\n",
    "        helpD[2 * key] += [value]\n",
    "    else:\n",
    "        helpD[2 * key] = [value]\n",
    "    d.update(helpD)\n",
    "d = {}\n",
    "print(update_dictionary(d, 1, -1))  # None\n",
    "print(d)                            # {2: [-1]}\n",
    "update_dictionary(d, 2, -2)\n",
    "print(d)                            # {2: [-1, -2]}\n",
    "update_dictionary(d, 1, -3)\n",
    "print(d)                            # {2: [-1, -2, -3]}"
   ]
  },
  {
   "cell_type": "code",
   "execution_count": 26,
   "metadata": {},
   "outputs": [
    {
     "name": "stdout",
     "output_type": "stream",
     "text": [
      "{1: 1, 2: 3}\n",
      "{1: 2, 2: 6}\n"
     ]
    }
   ],
   "source": [
    "d = {}\n",
    "a = {}\n",
    "d[1] = 1\n",
    "d[2] = 3\n",
    "print(d)\n",
    "d[1] += 1\n",
    "d[2] += 3\n",
    "print(d)"
   ]
  },
  {
   "cell_type": "code",
   "execution_count": 30,
   "metadata": {},
   "outputs": [
    {
     "name": "stdout",
     "output_type": "stream",
     "text": [
      "a aa abC aa ac abc bcd a\n",
      "a 2\n",
      "aa 2\n",
      "abc 2\n",
      "ac 1\n",
      "bcd 1\n"
     ]
    }
   ],
   "source": [
    "lst = [i for i in input().split()]\n",
    "ans = {}\n",
    "for s in lst:\n",
    "    s = s.lower()\n",
    "    if ans.get(s) == None:\n",
    "        ans[s] = 1\n",
    "    else:\n",
    "        ans[s] += 1\n",
    "for key, value in ans.items():\n",
    "    print(key, value)"
   ]
  },
  {
   "cell_type": "code",
   "execution_count": 34,
   "metadata": {},
   "outputs": [
    {
     "name": "stdout",
     "output_type": "stream",
     "text": [
      "3\n",
      "1\n",
      "2\n",
      "3\n"
     ]
    },
    {
     "ename": "NameError",
     "evalue": "name 'f' is not defined",
     "output_type": "error",
     "traceback": [
      "\u001b[1;31m---------------------------------------------------------------------------\u001b[0m",
      "\u001b[1;31mNameError\u001b[0m                                 Traceback (most recent call last)",
      "\u001b[1;32m<ipython-input-34-dc5121ff9531>\u001b[0m in \u001b[0;36m<module>\u001b[1;34m\u001b[0m\n\u001b[0;32m      6\u001b[0m \u001b[1;32mfor\u001b[0m \u001b[0mi\u001b[0m \u001b[1;32min\u001b[0m \u001b[0mx\u001b[0m\u001b[1;33m:\u001b[0m\u001b[1;33m\u001b[0m\u001b[1;33m\u001b[0m\u001b[0m\n\u001b[0;32m      7\u001b[0m     \u001b[1;32mif\u001b[0m \u001b[0mans\u001b[0m\u001b[1;33m.\u001b[0m\u001b[0mget\u001b[0m\u001b[1;33m(\u001b[0m\u001b[0mi\u001b[0m\u001b[1;33m)\u001b[0m \u001b[1;33m==\u001b[0m \u001b[1;32mNone\u001b[0m\u001b[1;33m:\u001b[0m\u001b[1;33m\u001b[0m\u001b[1;33m\u001b[0m\u001b[0m\n\u001b[1;32m----> 8\u001b[1;33m         \u001b[0mans\u001b[0m\u001b[1;33m[\u001b[0m\u001b[0mi\u001b[0m\u001b[1;33m]\u001b[0m \u001b[1;33m=\u001b[0m \u001b[0mf\u001b[0m\u001b[1;33m(\u001b[0m\u001b[0mi\u001b[0m\u001b[1;33m)\u001b[0m\u001b[1;33m\u001b[0m\u001b[1;33m\u001b[0m\u001b[0m\n\u001b[0m\u001b[0;32m      9\u001b[0m \u001b[1;32mfor\u001b[0m \u001b[0mkey\u001b[0m \u001b[1;32min\u001b[0m \u001b[0mans\u001b[0m\u001b[1;33m:\u001b[0m\u001b[1;33m\u001b[0m\u001b[1;33m\u001b[0m\u001b[0m\n\u001b[0;32m     10\u001b[0m     \u001b[0mprint\u001b[0m\u001b[1;33m(\u001b[0m\u001b[0mans\u001b[0m\u001b[1;33m[\u001b[0m\u001b[0mkey\u001b[0m\u001b[1;33m]\u001b[0m\u001b[1;33m)\u001b[0m\u001b[1;33m\u001b[0m\u001b[1;33m\u001b[0m\u001b[0m\n",
      "\u001b[1;31mNameError\u001b[0m: name 'f' is not defined"
     ]
    }
   ],
   "source": [
    "n = int(input())\n",
    "x = []\n",
    "for i in range(n):\n",
    "    x += [int(input())]\n",
    "ans = {}\n",
    "for i in x:\n",
    "    if ans.get(i) == None:\n",
    "        ans[i] = f(i)\n",
    "for key in ans:\n",
    "    print(ans[key])"
   ]
  },
  {
   "cell_type": "code",
   "execution_count": 8,
   "metadata": {},
   "outputs": [],
   "source": [
    "with open('dataset_3363_2.txt', 'r') as file:\n",
    "    str = file.readline().strip()\n",
    "count = ''\n",
    "with open('answer.txt', 'w') as out:\n",
    "    for s in str:\n",
    "        if s < '0' or s > '9':\n",
    "            if count != '':\n",
    "                for i in range(int(count)):\n",
    "                    out.write(ch)\n",
    "            ch = s\n",
    "            count = ''\n",
    "        else:\n",
    "            count += s"
   ]
  },
  {
   "cell_type": "code",
   "execution_count": 15,
   "metadata": {},
   "outputs": [
    {
     "name": "stdout",
     "output_type": "stream",
     "text": [
      "b 10\n",
      "{'b': 10}\n",
      "['b']\n"
     ]
    }
   ],
   "source": [
    "words = []\n",
    "with open('dataset_3363_3.txt') as inFile:\n",
    "    for line in inFile:\n",
    "        words += [i for i in line.lower().split()]\n",
    "ans = {}\n",
    "maxCount = words.count(words[0])\n",
    "for word in words:\n",
    "    if words.count(word) > maxCount:\n",
    "        ans.clear()\n",
    "        maxCount = words.count(word)\n",
    "        ans[word] = maxCount\n",
    "    elif words.count(word) == maxCount:\n",
    "        ans[word] = maxCount\n",
    "ansWord = []\n",
    "for s in ans:\n",
    "    ansWord += [s]\n",
    "ansWord.sort()\n",
    "with open('answer.txt', 'w') as outFile:\n",
    "    outFile.write(ansWord[0] + ' ' + str(ans[ansWord[0]]))\n",
    "print(ansWord[0], ans[ansWord[0]])\n",
    "print(ans)\n",
    "print(ansWord)"
   ]
  },
  {
   "cell_type": "code",
   "execution_count": 19,
   "metadata": {},
   "outputs": [],
   "source": [
    "math = []\n",
    "phis = []\n",
    "rus = []\n",
    "mean = []\n",
    "with open('dataset_3363_4.txt') as inFile:\n",
    "    for line in inFile:\n",
    "        line = [i for i in line.split(';')]\n",
    "        math += [int(line[1])]\n",
    "        phis += [int(line[2])]\n",
    "        rus += [int(line[3])]\n",
    "        mean += [(int(line[1]) + int(line[2]) + int(line[3])) / 3]\n",
    "mathMean = sum(math) / len(math)\n",
    "phisMean = sum(phis) / len(phis)\n",
    "rusMean = sum(rus) / len(rus)\n",
    "with open('answer.txt', 'w') as outFile:\n",
    "    for x in mean:\n",
    "        outFile.write(str(x) + '\\n')\n",
    "    outFile.write(str(mathMean) + ' ' + str(phisMean) + ' ' + str(rusMean))"
   ]
  },
  {
   "cell_type": "code",
   "execution_count": 20,
   "metadata": {},
   "outputs": [
    {
     "name": "stdout",
     "output_type": "stream",
     "text": [
      "10\n",
      "62.83185307179586\n"
     ]
    }
   ],
   "source": [
    "import math\n",
    "r = int(input())\n",
    "per = 2 * r * math.pi\n",
    "print(per)"
   ]
  },
  {
   "cell_type": "code",
   "execution_count": 9,
   "metadata": {
    "scrolled": false
   },
   "outputs": [
    {
     "name": "stdout",
     "output_type": "stream",
     "text": [
      "32\n"
     ]
    }
   ],
   "source": [
    "import requests as rq\n",
    "with open('dataset_3378_2.txt') as inpFile:\n",
    "    url = inpFile.readline().strip()\n",
    "r = rq.get(url)\n",
    "strings = r.text.splitlines()\n",
    "print(len(strings))"
   ]
  },
  {
   "cell_type": "code",
   "execution_count": 2,
   "metadata": {},
   "outputs": [
    {
     "name": "stdout",
     "output_type": "stream",
     "text": [
      "We are the champions, my friends,\n",
      "And we'll keep on fighting 'til the end.\n",
      "We are the champions.\n",
      "We are the champions.\n",
      "No time for losers\n",
      "'Cause we are the champions of the world.\n"
     ]
    }
   ],
   "source": [
    "import requests as rq\n",
    "with open('dataset_3378_3.txt') as inpFile:\n",
    "    url = inpFile.readline().strip()\n",
    "r = rq.get(url)\n",
    "mainUrl = 'https://stepic.org/media/attachments/course67/3.6.3/'\n",
    "while 1:\n",
    "    nextUrl = mainUrl + r.text\n",
    "    r = rq.get(nextUrl)\n",
    "    strings = r.text.split()\n",
    "    if strings[0] == 'We':\n",
    "        ans = r.text\n",
    "        break\n",
    "print(ans)"
   ]
  },
  {
   "cell_type": "code",
   "execution_count": 6,
   "metadata": {},
   "outputs": [
    {
     "name": "stdout",
     "output_type": "stream",
     "text": [
      "3\n",
      "Спартак;8;Локомотив;15\n",
      "Локомотив;12;Зенит;3\n",
      "Спартак;9;Зенит;10\n",
      "Спартак: 2 0 0 2 0 \n",
      "Локомотив: 2 2 0 0 6 \n",
      "Зенит: 2 1 0 1 3 \n"
     ]
    }
   ],
   "source": [
    "n = int(input())\n",
    "stats = {}\n",
    "for j in range(n):\n",
    "    str = [i for i in input().split(';')]\n",
    "    Name1 = str[0]\n",
    "    Name2 = str[2]\n",
    "    if int(str[1]) > int(str[3]):\n",
    "        Win1 = 1\n",
    "        Win2 = 0\n",
    "        Draw = 0\n",
    "        Lose1 = 0\n",
    "        Lose2 = 1\n",
    "    elif int(str[1]) == int(str[3]):\n",
    "        Win1 = 0\n",
    "        Win2 = 0\n",
    "        Draw = 1\n",
    "        Lose1 = 0\n",
    "        Lose2 = 0\n",
    "    else:\n",
    "        Win1 = 0\n",
    "        Win2 = 1\n",
    "        Draw = 0\n",
    "        Lose1 = 1\n",
    "        Lose2 = 0\n",
    "    if stats.get(Name1) == None:\n",
    "        stats[Name1] = [1, Win1, Draw, Lose1, 3 * Win1 + Draw]\n",
    "    else:\n",
    "        stats[Name1][0] += 1\n",
    "        stats[Name1][1] += Win1\n",
    "        stats[Name1][2] += Draw\n",
    "        stats[Name1][3] += Lose1\n",
    "        stats[Name1][4] += 3 * Win1 + Draw\n",
    "    if stats.get(Name2) == None:\n",
    "        stats[Name2] = [1, Win2, Draw, Lose2, 3 * Win2 + Draw]\n",
    "    else:\n",
    "        stats[Name2][0] += 1\n",
    "        stats[Name2][1] += Win2\n",
    "        stats[Name2][2] += Draw\n",
    "        stats[Name2][3] += Lose2\n",
    "        stats[Name2][4] += 3 * Win2 + Draw\n",
    "for key in stats:\n",
    "    print(key, end = ': ')\n",
    "    for x in stats[key]:\n",
    "        print(x, end = ' ')\n",
    "    print()"
   ]
  },
  {
   "cell_type": "code",
   "execution_count": 9,
   "metadata": {},
   "outputs": [
    {
     "name": "stdout",
     "output_type": "stream",
     "text": [
      "abcd\n",
      "*d%#\n",
      "abacabadaba\n",
      "#*%*d*%\n",
      "*d*%*d*#*d*\n",
      "dacabac\n"
     ]
    }
   ],
   "source": [
    "default = input()\n",
    "cript = input()\n",
    "str1 = input()\n",
    "str2 = input()\n",
    "ans1 = ''\n",
    "ans2 = ''\n",
    "for s in str1:\n",
    "    ans1 += cript[default.index(s)]\n",
    "for s in str2:\n",
    "    ans2 += default[cript.index(s)]\n",
    "print(ans1)\n",
    "print(ans2)"
   ]
  },
  {
   "cell_type": "code",
   "execution_count": 17,
   "metadata": {},
   "outputs": [
    {
     "name": "stdout",
     "output_type": "stream",
     "text": [
      "4\n",
      "champions\n",
      "we\n",
      "are\n",
      "Stepik\n",
      "3\n",
      "We are the champignons\n",
      "We Are The Champions\n",
      "Stepic\n",
      "the\n",
      "champignons\n",
      "stepic\n"
     ]
    }
   ],
   "source": [
    "n = int(input())\n",
    "vocabulary = []\n",
    "for i in range(n):\n",
    "    vocabulary += [input().lower()]\n",
    "n = int(input())\n",
    "testStr = []\n",
    "for i in range(n):\n",
    "    testStr += [input().lower()]\n",
    "error = []\n",
    "for line in testStr:\n",
    "    words = line.split()\n",
    "    for word in words:\n",
    "        if(vocabulary.count(word) == 0 and error.count(word) == 0):\n",
    "            error += [word]\n",
    "for e in error:\n",
    "    print(e)"
   ]
  },
  {
   "cell_type": "code",
   "execution_count": 1,
   "metadata": {},
   "outputs": [
    {
     "name": "stdout",
     "output_type": "stream",
     "text": [
      "4\n",
      "север 10\n",
      "запад 20\n",
      "юг 30\n",
      "восток 40\n",
      "20 -20\n"
     ]
    }
   ],
   "source": [
    "n = int(input())\n",
    "x, y = 0, 0\n",
    "for i in range(n):\n",
    "    command = input().split()\n",
    "    direction = command[0]\n",
    "    delta = int(command[1])\n",
    "    if direction == 'восток':\n",
    "        x += delta\n",
    "    elif direction == 'запад':\n",
    "        x -= delta\n",
    "    elif direction == 'север':\n",
    "        y += delta\n",
    "    elif direction == 'юг':\n",
    "        y -= delta\n",
    "print(x, y)"
   ]
  },
  {
   "cell_type": "code",
   "execution_count": 9,
   "metadata": {},
   "outputs": [
    {
     "name": "stdout",
     "output_type": "stream",
     "text": [
      "1 124.64285714285714\n",
      "2 128.8\n",
      "3 133.63636363636363\n",
      "4 139.0\n",
      "5 145.6\n",
      "6 155.6875\n",
      "7 159.42857142857142\n",
      "8 163.57142857142858\n",
      "9 170.0\n",
      "10 170.0\n",
      "11 176.0\n"
     ]
    }
   ],
   "source": [
    "studHeight = {}\n",
    "with open('dataset_3380_5.txt') as inFile:\n",
    "    for line in inFile:\n",
    "        line = line.strip().split('\\t')\n",
    "        key = int(line[0])\n",
    "        height = int(line[2])\n",
    "        if studHeight.get(key) == None:\n",
    "            studHeight[key] = [height]\n",
    "        else:\n",
    "            studHeight[key] += [height]\n",
    "for key in studHeight:\n",
    "    studHeight[key] = sum(studHeight[key]) / len(studHeight[key])\n",
    "for i in range(1, 11 + 1):\n",
    "    print(i, end = ' ')\n",
    "    if studHeight.get(i) == None:\n",
    "        print('-')\n",
    "    else:\n",
    "        print(studHeight[i])"
   ]
  },
  {
   "cell_type": "code",
   "execution_count": null,
   "metadata": {},
   "outputs": [],
   "source": []
  }
 ],
 "metadata": {
  "kernelspec": {
   "display_name": "Python 3",
   "language": "python",
   "name": "python3"
  },
  "language_info": {
   "codemirror_mode": {
    "name": "ipython",
    "version": 3
   },
   "file_extension": ".py",
   "mimetype": "text/x-python",
   "name": "python",
   "nbconvert_exporter": "python",
   "pygments_lexer": "ipython3",
   "version": "3.8.3"
  }
 },
 "nbformat": 4,
 "nbformat_minor": 4
}
